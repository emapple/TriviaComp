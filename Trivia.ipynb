{
 "cells": [
  {
   "cell_type": "code",
   "execution_count": 60,
   "metadata": {},
   "outputs": [],
   "source": [
    "import numpy as np"
   ]
  },
  {
   "cell_type": "code",
   "execution_count": 70,
   "metadata": {},
   "outputs": [],
   "source": [
    "class triviaTeam:\n",
    "    \"\"\"Class containing information of a team\n",
    "    \n",
    "    Rounds are a dictionary and not a list, so self.rounds[1] is round 1, and\n",
    "    self.rounds[0] doesn't exist\"\"\"\n",
    "    \n",
    "    def __init__(self, name=None, nround=6):\n",
    "        self.name = name\n",
    "        self._round = [triviaRound() for i in range(nround)]\n",
    "        # self.round = [triviaRound()] * nround\n",
    "    \n",
    "    #@property\n",
    "    def round(self, num, qnum=None):\n",
    "        if qnum is None:\n",
    "            return self._round[num-1]\n",
    "        else:\n",
    "            self._round[num-1].scores[qnum-1] = self._round[num-1].single_score(qnum=qnum)"
   ]
  },
  {
   "cell_type": "code",
   "execution_count": 71,
   "metadata": {},
   "outputs": [],
   "source": [
    "class triviaRound:\n",
    "    \"\"\"Per-round trivia class\"\"\"\n",
    "    \n",
    "    def __init__(self, nquestion=10):\n",
    "        self.scores = np.zeros(nquestion)\n",
    "    \n",
    "    def do_scores(self):\n",
    "        for i in range(len(self.scores)):\n",
    "            self.scores[i] = self.single_score(i+1)\n",
    "            \n",
    "    def single_score(self, qnum=None):\n",
    "        if qnum is None:\n",
    "            prompt = 'Enter score:'\n",
    "        else:\n",
    "            prompt = 'Enter score for question {}'.format(qnum)\n",
    "        score = input(prompt)\n",
    "        try:\n",
    "            score = float(score)\n",
    "        except ValueError:\n",
    "            if score.lower() == 'y' or score.lower() == 'yes':\n",
    "                score = 1.0\n",
    "            elif score.lower() == 'n' or score.lower() == 'no':\n",
    "                score = 0.0\n",
    "            else:\n",
    "                print('Invalid score choice.\\n')\n",
    "                score = self.single_score(qnum)\n",
    "        return score"
   ]
  },
  {
   "cell_type": "code",
   "execution_count": 74,
   "metadata": {},
   "outputs": [],
   "source": [
    "team1 = triviaTeam('This is team 1')"
   ]
  },
  {
   "cell_type": "code",
   "execution_count": 75,
   "metadata": {},
   "outputs": [
    {
     "name": "stdout",
     "output_type": "stream",
     "text": [
      "Enter score for question 27\n"
     ]
    }
   ],
   "source": [
    "team1.round(1, 2)"
   ]
  },
  {
   "cell_type": "code",
   "execution_count": 77,
   "metadata": {},
   "outputs": [
    {
     "data": {
      "text/plain": [
       "array([0., 7., 0., 0., 0., 0., 0., 0., 0., 0.])"
      ]
     },
     "execution_count": 77,
     "metadata": {},
     "output_type": "execute_result"
    }
   ],
   "source": [
    "team1.round(1).scores"
   ]
  },
  {
   "cell_type": "code",
   "execution_count": 21,
   "metadata": {},
   "outputs": [
    {
     "data": {
      "text/plain": [
       "[2, 2, 2, 2, 2, 2, 2, 2, 2, 2]"
      ]
     },
     "execution_count": 21,
     "metadata": {},
     "output_type": "execute_result"
    }
   ],
   "source": [
    "class goodClass:\n",
    "    def __init__(self):\n",
    "        self.x = 7\n",
    "\n",
    "l = [goodClass()] * 10\n",
    "l[5].x = 2\n",
    "[e.x for e in l]"
   ]
  }
 ],
 "metadata": {
  "kernelspec": {
   "display_name": "Python 3",
   "language": "python",
   "name": "python3"
  },
  "language_info": {
   "codemirror_mode": {
    "name": "ipython",
    "version": 3
   },
   "file_extension": ".py",
   "mimetype": "text/x-python",
   "name": "python",
   "nbconvert_exporter": "python",
   "pygments_lexer": "ipython3",
   "version": "3.5.3"
  }
 },
 "nbformat": 4,
 "nbformat_minor": 2
}
