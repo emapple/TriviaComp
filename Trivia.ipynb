{
 "cells": [
  {
   "cell_type": "code",
   "execution_count": null,
   "metadata": {},
   "outputs": [],
   "source": [
    "import numpy as np\n",
    "import pandas as pd"
   ]
  },
  {
   "cell_type": "code",
   "execution_count": null,
   "metadata": {},
   "outputs": [],
   "source": [
    "class triviaTeam:\n",
    "    \"\"\"Class containing information of a team\n",
    "    \n",
    "    Rounds are a dictionary and not a list, so self.rounds[1] is round 1, and\n",
    "    self.rounds[0] doesn't exist\"\"\"\n",
    "    \n",
    "    def __init__(self, name=None, nround=6):\n",
    "        self.name = name\n",
    "        self._round = [triviaRound() for i in range(nround)]\n",
    "        self.nround = nround\n",
    "    \n",
    "    def round(self, num, qnum=None):\n",
    "        if qnum is None:\n",
    "            return self._round[num-1]\n",
    "        else:\n",
    "            self._round[num-1].scores[qnum-1] = self._round[num-1].single_score(qnum=qnum)"
   ]
  },
  {
   "cell_type": "code",
   "execution_count": null,
   "metadata": {},
   "outputs": [],
   "source": [
    "class triviaRound:\n",
    "    \"\"\"Per-round trivia class\"\"\"\n",
    "    \n",
    "    def __init__(self, nquestion=10):\n",
    "        self.scores = np.zeros(nquestion)\n",
    "    \n",
    "    def do_scores(self):\n",
    "        for i in range(len(self.scores)):\n",
    "            self.scores[i] = self.single_score(i+1)\n",
    "            \n",
    "    def single_score(self, qnum=None):\n",
    "        if qnum is None:\n",
    "            prompt = 'Enter score:'\n",
    "        else:\n",
    "            prompt = 'Enter score for question {}'.format(qnum)\n",
    "        score = input(prompt)\n",
    "        try:\n",
    "            score = float(score)\n",
    "        except ValueError:\n",
    "            if score.lower() == 'y' or score.lower() == 'yes':\n",
    "                score = 1.0\n",
    "            elif score.lower() == 'n' or score.lower() == 'no':\n",
    "                score = 0.0\n",
    "            else:\n",
    "                print('Invalid score choice.\\n')\n",
    "                score = self.single_score(qnum)\n",
    "        return score"
   ]
  },
  {
   "cell_type": "code",
   "execution_count": null,
   "metadata": {},
   "outputs": [],
   "source": [
    "def to_df(*args, sort=False):\n",
    "    \"\"\"Combine all teams in a single DataFrame\n",
    "    \n",
    "    *args - an arbitrary number of triviaTeam objects\"\"\"\n",
    "    for team in args:\n",
    "        df = pd.concat([team_to_df(trivia_team) for trivia_team in args])\n",
    "    df.index.name = 'Team Name'\n",
    "    df['Total'] = df.sum(axis=1)\n",
    "    \n",
    "    if sort:\n",
    "        df.sort_values('Total', ascending=False, inplace=True)\n",
    "    \n",
    "    return df\n",
    "        \n",
    "def team_to_df(trivia_team):\n",
    "    \"\"\"Convert triviaTeam data to DataFrame of scores\"\"\"\n",
    "    df = pd.DataFrame([[trivia_team.round(i+1).scores.sum() for i in range(trivia_team.nround)]],\n",
    "                     columns=list(range(1, trivia_team.nround+1)), index=[trivia_team.name])\n",
    "    return df"
   ]
  },
  {
   "cell_type": "markdown",
   "metadata": {},
   "source": [
    "### Examples"
   ]
  },
  {
   "cell_type": "code",
   "execution_count": null,
   "metadata": {},
   "outputs": [],
   "source": [
    "team1 = triviaTeam('This is team 1')\n",
    "\n",
    "team2 = triviaTeam('This is team 2')\n",
    "\n",
    "team3 = triviaTeam('Clever name')\n",
    "team3.round(2, 3)\n",
    "\n",
    "df = to_df(team1, team2, team3)"
   ]
  },
  {
   "cell_type": "code",
   "execution_count": null,
   "metadata": {},
   "outputs": [],
   "source": [
    "df.to_csv('/home/elaad/Desktop/test.csv')"
   ]
  },
  {
   "cell_type": "code",
   "execution_count": null,
   "metadata": {},
   "outputs": [],
   "source": []
  }
 ],
 "metadata": {
  "language_info": {
   "name": "python",
   "pygments_lexer": "ipython3"
  }
 },
 "nbformat": 4,
 "nbformat_minor": 2
}
